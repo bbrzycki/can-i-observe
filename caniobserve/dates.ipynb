{
 "cells": [
  {
   "cell_type": "code",
   "execution_count": 9,
   "metadata": {},
   "outputs": [],
   "source": [
    "import os\n",
    "import click\n",
    "from astropy import units as u\n",
    "from astropy.time import Time, TimeDelta\n",
    "from astropy.coordinates import SkyCoord, EarthLocation, AltAz, get_sun\n",
    "import numpy as np"
   ]
  },
  {
   "cell_type": "code",
   "execution_count": 20,
   "metadata": {},
   "outputs": [],
   "source": [
    "%matplotlib inline \n",
    "import matplotlib.pyplot as plt "
   ]
  },
  {
   "cell_type": "code",
   "execution_count": 1,
   "metadata": {},
   "outputs": [
    {
     "data": {
      "text/plain": [
       "<Arrow [2023-11-27T00:04:03.298125+00:00]>"
      ]
     },
     "execution_count": 1,
     "metadata": {},
     "output_type": "execute_result"
    }
   ],
   "source": [
    "import arrow\n",
    "arrow.utcnow()"
   ]
  },
  {
   "cell_type": "code",
   "execution_count": 6,
   "metadata": {},
   "outputs": [
    {
     "data": {
      "text/plain": [
       "(<Time object: scale='utc' format='datetime' value=2023-11-27 01:01:13.836675>,\n",
       " <Time object: scale='utc' format='datetime' value=2023-11-27 02:01:13.836675>)"
      ]
     },
     "execution_count": 6,
     "metadata": {},
     "output_type": "execute_result"
    }
   ],
   "source": [
    "a = Time.now()\n",
    "a, a + 1 * u.hour"
   ]
  },
  {
   "cell_type": "code",
   "execution_count": 5,
   "metadata": {},
   "outputs": [
    {
     "ename": "TypeError",
     "evalue": "Unsupported operand type(s) for ufunc add: 'Arrow,Quantity'",
     "output_type": "error",
     "traceback": [
      "\u001b[0;31m---------------------------------------------------------------------------\u001b[0m",
      "\u001b[0;31mTypeError\u001b[0m                                 Traceback (most recent call last)",
      "File \u001b[0;32m~/.local/lib/python3.10/site-packages/astropy/units/quantity_helper/converters.py:189\u001b[0m, in \u001b[0;36mconverters_and_unit\u001b[0;34m(function, method, *args)\u001b[0m\n\u001b[1;32m    188\u001b[0m     \u001b[39mcontinue\u001b[39;00m\n\u001b[0;32m--> 189\u001b[0m \u001b[39mif\u001b[39;00m can_have_arbitrary_unit(args[i]):\n\u001b[1;32m    190\u001b[0m     converters[i] \u001b[39m=\u001b[39m \u001b[39mNone\u001b[39;00m\n",
      "File \u001b[0;32m~/.local/lib/python3.10/site-packages/astropy/units/quantity_helper/converters.py:130\u001b[0m, in \u001b[0;36mcan_have_arbitrary_unit\u001b[0;34m(value)\u001b[0m\n\u001b[1;32m    116\u001b[0m \u001b[39m\u001b[39m\u001b[39m\"\"\"Test whether the items in value can have arbitrary units\u001b[39;00m\n\u001b[1;32m    117\u001b[0m \n\u001b[1;32m    118\u001b[0m \u001b[39mNumbers whose value does not change upon a unit change, i.e.,\u001b[39;00m\n\u001b[0;32m   (...)\u001b[0m\n\u001b[1;32m    128\u001b[0m \u001b[39m    `True` if each member is either zero or not finite, `False` otherwise\u001b[39;00m\n\u001b[1;32m    129\u001b[0m \u001b[39m\"\"\"\u001b[39;00m\n\u001b[0;32m--> 130\u001b[0m \u001b[39mreturn\u001b[39;00m np\u001b[39m.\u001b[39mall(np\u001b[39m.\u001b[39mlogical_or(np\u001b[39m.\u001b[39mequal(value, \u001b[39m0.\u001b[39m), \u001b[39m~\u001b[39mnp\u001b[39m.\u001b[39;49misfinite(value)))\n",
      "\u001b[0;31mTypeError\u001b[0m: ufunc 'isfinite' not supported for the input types, and the inputs could not be safely coerced to any supported types according to the casting rule ''safe''",
      "\nDuring handling of the above exception, another exception occurred:\n",
      "\u001b[0;31mTypeError\u001b[0m                                 Traceback (most recent call last)",
      "\u001b[1;32m/home/bryanb/can-i-observe/caniobserve/dates.ipynb Cell 3\u001b[0m line \u001b[0;36m2\n\u001b[1;32m      <a href='vscode-notebook-cell://ssh-remote%2Bblpc0/home/bryanb/can-i-observe/caniobserve/dates.ipynb#W3sdnNjb2RlLXJlbW90ZQ%3D%3D?line=0'>1</a>\u001b[0m a \u001b[39m=\u001b[39m arrow\u001b[39m.\u001b[39mutcnow()\n\u001b[0;32m----> <a href='vscode-notebook-cell://ssh-remote%2Bblpc0/home/bryanb/can-i-observe/caniobserve/dates.ipynb#W3sdnNjb2RlLXJlbW90ZQ%3D%3D?line=1'>2</a>\u001b[0m a, a \u001b[39m+\u001b[39;49m \u001b[39m1\u001b[39;49m \u001b[39m*\u001b[39;49m u\u001b[39m.\u001b[39;49mhour\n",
      "File \u001b[0;32m~/.local/lib/python3.10/site-packages/astropy/units/quantity.py:593\u001b[0m, in \u001b[0;36mQuantity.__array_ufunc__\u001b[0;34m(self, function, method, *inputs, **kwargs)\u001b[0m\n\u001b[1;32m    571\u001b[0m \u001b[39m\u001b[39m\u001b[39m\"\"\"Wrap numpy ufuncs, taking care of units.\u001b[39;00m\n\u001b[1;32m    572\u001b[0m \n\u001b[1;32m    573\u001b[0m \u001b[39mParameters\u001b[39;00m\n\u001b[0;32m   (...)\u001b[0m\n\u001b[1;32m    587\u001b[0m \u001b[39m    Results of the ufunc, with the unit set properly.\u001b[39;00m\n\u001b[1;32m    588\u001b[0m \u001b[39m\"\"\"\u001b[39;00m\n\u001b[1;32m    589\u001b[0m \u001b[39m# Determine required conversion functions -- to bring the unit of the\u001b[39;00m\n\u001b[1;32m    590\u001b[0m \u001b[39m# input to that expected (e.g., radian for np.sin), or to get\u001b[39;00m\n\u001b[1;32m    591\u001b[0m \u001b[39m# consistent units between two inputs (e.g., in np.add) --\u001b[39;00m\n\u001b[1;32m    592\u001b[0m \u001b[39m# and the unit of the result (or tuple of units for nout > 1).\u001b[39;00m\n\u001b[0;32m--> 593\u001b[0m converters, unit \u001b[39m=\u001b[39m converters_and_unit(function, method, \u001b[39m*\u001b[39;49minputs)\n\u001b[1;32m    595\u001b[0m out \u001b[39m=\u001b[39m kwargs\u001b[39m.\u001b[39mget(\u001b[39m'\u001b[39m\u001b[39mout\u001b[39m\u001b[39m'\u001b[39m, \u001b[39mNone\u001b[39;00m)\n\u001b[1;32m    596\u001b[0m \u001b[39m# Avoid loop back by turning any Quantity output into array views.\u001b[39;00m\n",
      "File \u001b[0;32m~/.local/lib/python3.10/site-packages/astropy/units/quantity_helper/converters.py:201\u001b[0m, in \u001b[0;36mconverters_and_unit\u001b[0;34m(function, method, *args)\u001b[0m\n\u001b[1;32m    192\u001b[0m                 \u001b[39mraise\u001b[39;00m UnitConversionError(\n\u001b[1;32m    193\u001b[0m                     \u001b[39m\"\u001b[39m\u001b[39mCan only apply \u001b[39m\u001b[39m'\u001b[39m\u001b[39m{}\u001b[39;00m\u001b[39m'\u001b[39m\u001b[39m function to \u001b[39m\u001b[39m\"\u001b[39m\n\u001b[1;32m    194\u001b[0m                     \u001b[39m\"\u001b[39m\u001b[39mdimensionless quantities when other \u001b[39m\u001b[39m\"\u001b[39m\n\u001b[1;32m    195\u001b[0m                     \u001b[39m\"\u001b[39m\u001b[39margument is not a quantity (unless the \u001b[39m\u001b[39m\"\u001b[39m\n\u001b[1;32m    196\u001b[0m                     \u001b[39m\"\u001b[39m\u001b[39mlatter is all zero/infinity/nan)\u001b[39m\u001b[39m\"\u001b[39m\n\u001b[1;32m    197\u001b[0m                     \u001b[39m.\u001b[39mformat(function\u001b[39m.\u001b[39m\u001b[39m__name__\u001b[39m))\n\u001b[1;32m    198\u001b[0m     \u001b[39mexcept\u001b[39;00m \u001b[39mTypeError\u001b[39;00m:\n\u001b[1;32m    199\u001b[0m         \u001b[39m# _can_have_arbitrary_unit failed: arg could not be compared\u001b[39;00m\n\u001b[1;32m    200\u001b[0m         \u001b[39m# with zero or checked to be finite. Then, ufunc will fail too.\u001b[39;00m\n\u001b[0;32m--> 201\u001b[0m         \u001b[39mraise\u001b[39;00m \u001b[39mTypeError\u001b[39;00m(\u001b[39m\"\u001b[39m\u001b[39mUnsupported operand type(s) for ufunc \u001b[39m\u001b[39m{}\u001b[39;00m\u001b[39m: \u001b[39m\u001b[39m\"\u001b[39m\n\u001b[1;32m    202\u001b[0m                         \u001b[39m\"\u001b[39m\u001b[39m'\u001b[39m\u001b[39m{}\u001b[39;00m\u001b[39m'\u001b[39m\u001b[39m\"\u001b[39m\u001b[39m.\u001b[39mformat(function\u001b[39m.\u001b[39m\u001b[39m__name__\u001b[39m,\n\u001b[1;32m    203\u001b[0m                                        \u001b[39m'\u001b[39m\u001b[39m,\u001b[39m\u001b[39m'\u001b[39m\u001b[39m.\u001b[39mjoin([arg\u001b[39m.\u001b[39m\u001b[39m__class__\u001b[39m\u001b[39m.\u001b[39m\u001b[39m__name__\u001b[39m\n\u001b[1;32m    204\u001b[0m                                                  \u001b[39mfor\u001b[39;00m arg \u001b[39min\u001b[39;00m args])))\n\u001b[1;32m    206\u001b[0m \u001b[39m# In the case of np.power and np.float_power, the unit itself needs to\u001b[39;00m\n\u001b[1;32m    207\u001b[0m \u001b[39m# be modified by an amount that depends on one of the input values,\u001b[39;00m\n\u001b[1;32m    208\u001b[0m \u001b[39m# so we need to treat this as a special case.\u001b[39;00m\n\u001b[1;32m    209\u001b[0m \u001b[39m# TODO: find a better way to deal with this.\u001b[39;00m\n\u001b[1;32m    210\u001b[0m \u001b[39mif\u001b[39;00m result_unit \u001b[39mis\u001b[39;00m \u001b[39mFalse\u001b[39;00m:\n",
      "\u001b[0;31mTypeError\u001b[0m: Unsupported operand type(s) for ufunc add: 'Arrow,Quantity'"
     ]
    }
   ],
   "source": [
    "a = arrow.utcnow()\n",
    "a, a + 1 * u.hour"
   ]
  },
  {
   "cell_type": "code",
   "execution_count": 12,
   "metadata": {},
   "outputs": [
    {
     "data": {
      "text/plain": [
       "(86400,)"
      ]
     },
     "execution_count": 12,
     "metadata": {},
     "output_type": "execute_result"
    }
   ],
   "source": [
    "np.linspace(0, 24, 24*3600, endpoint=False).shape"
   ]
  },
  {
   "cell_type": "code",
   "execution_count": null,
   "metadata": {},
   "outputs": [],
   "source": [
    "l, b = 0, 0\n",
    "target = SkyCoord(f'{l} {b}', unit=(u.deg, u.deg), frame='galactic')\n",
    "target = target.icrs\n",
    "\n",
    "gbo = EarthLocation(lat=38.4*u.deg, lon=-79.8*u.deg, height=808*u.m)\n",
    "\n",
    "t = np.linspace(0, 24, 1000)*u.hour\n",
    "\n"
   ]
  },
  {
   "cell_type": "code",
   "execution_count": 14,
   "metadata": {},
   "outputs": [
    {
     "data": {
      "text/plain": [
       "<Time object: scale='utc' format='datetime' value=2023-11-27 04:22:32.801407>"
      ]
     },
     "execution_count": 14,
     "metadata": {},
     "output_type": "execute_result"
    }
   ],
   "source": [
    "Time.now()"
   ]
  },
  {
   "cell_type": "code",
   "execution_count": 15,
   "metadata": {},
   "outputs": [
    {
     "data": {
      "text/plain": [
       "'2023-11-27 04:30:28.871'"
      ]
     },
     "execution_count": 15,
     "metadata": {},
     "output_type": "execute_result"
    }
   ],
   "source": [
    "Time.now().iso"
   ]
  },
  {
   "cell_type": "code",
   "execution_count": 40,
   "metadata": {},
   "outputs": [
    {
     "data": {
      "text/plain": [
       "(30, 30)"
      ]
     },
     "execution_count": 40,
     "metadata": {},
     "output_type": "execute_result"
    }
   ],
   "source": [
    "l, b = 0, 0\n",
    "target = SkyCoord(f'{l} {b}', unit=(u.deg, u.deg), frame='galactic')\n",
    "target = target.icrs\n",
    "\n",
    "gbt = EarthLocation(lat=38.4*u.deg, lon=-79.8*u.deg, height=808*u.m)\n",
    "\n",
    "day_range = 30\n",
    "\n",
    "ts = np.linspace(0, 24*day_range, 24*day_range*60, endpoint=False) * u.hour\n",
    "ts = Time.now() + ts\n",
    "\n",
    "altazframe_gbt = AltAz(obstime=ts, location=gbt)\n",
    "targetaltazs_gbt = target.transform_to(altazframe_gbt)\n",
    "alts = targetaltazs_gbt.alt\n",
    "altz = alts.deg - 5.\n",
    "\n",
    "starts = []\n",
    "ends = []\n",
    "\n",
    "for i in range(len(ts)):\n",
    "    if altz[i] >= 0:\n",
    "        if i == 0 or altz[i-1] < 0:\n",
    "            starts.append(ts[i])\n",
    "        elif i == len(ts) - 1:\n",
    "            ends.append(ts[i])\n",
    "    elif altz[i-1] >= 0:\n",
    "        ends.append(ts[i])\n",
    "len(starts), len(ends)\n",
    "\n"
   ]
  },
  {
   "cell_type": "code",
   "execution_count": 41,
   "metadata": {},
   "outputs": [
    {
     "data": {
      "text/plain": [
       "<Time object: scale='utc' format='datetime' value=2023-11-27 14:59:48.345065>"
      ]
     },
     "execution_count": 41,
     "metadata": {},
     "output_type": "execute_result"
    }
   ],
   "source": [
    "starts[0]"
   ]
  },
  {
   "cell_type": "code",
   "execution_count": 44,
   "metadata": {},
   "outputs": [
    {
     "data": {
      "text/plain": [
       "datetime.datetime(2023, 11, 27, 14, 59, 48, 345065)"
      ]
     },
     "execution_count": 44,
     "metadata": {},
     "output_type": "execute_result"
    }
   ],
   "source": [
    "starts[0].datetime"
   ]
  },
  {
   "cell_type": "code",
   "execution_count": 46,
   "metadata": {},
   "outputs": [
    {
     "data": {
      "text/plain": [
       "<Arrow [2023-11-27T14:59:48.345065+00:00]>"
      ]
     },
     "execution_count": 46,
     "metadata": {},
     "output_type": "execute_result"
    }
   ],
   "source": [
    "arrow.get(starts[0].utc.datetime)"
   ]
  },
  {
   "cell_type": "code",
   "execution_count": null,
   "metadata": {},
   "outputs": [],
   "source": []
  }
 ],
 "metadata": {
  "kernelspec": {
   "display_name": "Python (bl)",
   "language": "python",
   "name": "bl"
  },
  "language_info": {
   "codemirror_mode": {
    "name": "ipython",
    "version": 3
   },
   "file_extension": ".py",
   "mimetype": "text/x-python",
   "name": "python",
   "nbconvert_exporter": "python",
   "pygments_lexer": "ipython3",
   "version": "3.10.9"
  }
 },
 "nbformat": 4,
 "nbformat_minor": 2
}
